{
 "cells": [
  {
   "cell_type": "code",
   "execution_count": 1,
   "metadata": {},
   "outputs": [],
   "source": [
    "# q1"
   ]
  },
  {
   "cell_type": "markdown",
   "metadata": {},
   "source": [
    "Class -  a class is a blueprint or a template that defines the characteristics (attributes) and behaviors (methods) of a particular type of object.\n",
    "\n",
    "Oblect -  An object is an instance or a realization of a class."
   ]
  },
  {
   "cell_type": "code",
   "execution_count": 8,
   "metadata": {},
   "outputs": [
    {
     "name": "stdout",
     "output_type": "stream",
     "text": [
      "tumi\n",
      "5\n"
     ]
    }
   ],
   "source": [
    "#example\n",
    "\n",
    "class animal:\n",
    "    def __init__(self,name,age):\n",
    "        self.name = name\n",
    "        self.age = age\n",
    "o1 = animal('tumi',5)\n",
    "print(o1.name)\n",
    "print(o1.age)"
   ]
  },
  {
   "cell_type": "code",
   "execution_count": 9,
   "metadata": {},
   "outputs": [],
   "source": [
    "#q2"
   ]
  },
  {
   "cell_type": "markdown",
   "metadata": {},
   "source": [
    "## Four pillars of OOPs are:\n",
    "    1 - Encapsulation\n",
    "    2 - Inheritance\n",
    "    3 - Polymorphism\n",
    "    4 - Abstraction"
   ]
  },
  {
   "cell_type": "code",
   "execution_count": 10,
   "metadata": {},
   "outputs": [],
   "source": [
    "#q3"
   ]
  },
  {
   "cell_type": "markdown",
   "metadata": {},
   "source": [
    "The __init__() function, also known as the constructor, is used in object-oriented programming to initialize the properties of an object when it is created by a class."
   ]
  },
  {
   "cell_type": "code",
   "execution_count": 12,
   "metadata": {},
   "outputs": [
    {
     "name": "stdout",
     "output_type": "stream",
     "text": [
      "Aniket\n",
      "20\n",
      "Hello, my name is Aniket and I am 20 years old.\n"
     ]
    }
   ],
   "source": [
    "class Person:\n",
    "    def __init__(self, name, age):\n",
    "        self.name = name\n",
    "        self.age = age\n",
    "\n",
    "    def introduce(self):\n",
    "        print(f\"Hello, my name is {self.name} and I am {self.age} years old.\")\n",
    "\n",
    "\n",
    "obj = Person(\"Aniket\", 20)\n",
    "\n",
    "print(obj.name)\n",
    "print(obj.age)\n",
    "obj.introduce()\n"
   ]
  },
  {
   "cell_type": "code",
   "execution_count": 13,
   "metadata": {},
   "outputs": [],
   "source": [
    "#q4"
   ]
  },
  {
   "cell_type": "markdown",
   "metadata": {},
   "source": [
    "In OOPs, the self keyword is used to refer to the instance of a class within the class itself"
   ]
  },
  {
   "cell_type": "code",
   "execution_count": 14,
   "metadata": {},
   "outputs": [],
   "source": [
    "#q5"
   ]
  },
  {
   "cell_type": "code",
   "execution_count": 15,
   "metadata": {},
   "outputs": [
    {
     "data": {
      "text/plain": [
       "'Inheritance is a fundamental concept in object-oriented programming (OOP) that allows a class to inherit properties and behaviors from another class.'"
      ]
     },
     "execution_count": 15,
     "metadata": {},
     "output_type": "execute_result"
    }
   ],
   "source": [
    "'''Inheritance is a fundamental concept in object-oriented programming (OOP) that allows a class to inherit properties and behaviors from another class.'''\n",
    "\n",
    "\n",
    "#EXAMPLe"
   ]
  },
  {
   "cell_type": "code",
   "execution_count": 24,
   "metadata": {},
   "outputs": [
    {
     "name": "stdout",
     "output_type": "stream",
     "text": [
      "A\n",
      "B\n"
     ]
    }
   ],
   "source": [
    "#single inheritance\n",
    "\n",
    "class A:\n",
    "    def a(self):\n",
    "        print(\"A\")\n",
    "  # properties and methods of class A\n",
    "\n",
    "class B(A):\n",
    "    def b(self):\n",
    "     print(\"B\")\n",
    "\n",
    "objB = B()\n",
    "objB.a()\n",
    "objB.b()\n"
   ]
  },
  {
   "cell_type": "code",
   "execution_count": 26,
   "metadata": {},
   "outputs": [
    {
     "name": "stdout",
     "output_type": "stream",
     "text": [
      "A\n",
      "B\n",
      "C\n"
     ]
    }
   ],
   "source": [
    "#multiple inheritance\n",
    "\n",
    "class A:\n",
    "    def a(self):\n",
    "        print('A')\n",
    "class B:\n",
    "    def b(self):\n",
    "        print(\"B\")\n",
    "class C(A,B):\n",
    "    def c(self):\n",
    "        print(\"C\")\n",
    "\n",
    "obj = C()\n",
    "obj.a()\n",
    "obj.b()\n",
    "obj.c()"
   ]
  },
  {
   "cell_type": "code",
   "execution_count": 1,
   "metadata": {},
   "outputs": [
    {
     "name": "stdout",
     "output_type": "stream",
     "text": [
      "C\n",
      "B\n",
      "B\n",
      "A\n"
     ]
    }
   ],
   "source": [
    "#multilevel inheritance\n",
    "\n",
    "class A:\n",
    "    def a(self):\n",
    "        print('A')\n",
    "class B(A):\n",
    "    def b(self):\n",
    "        print(\"B\")\n",
    "class C(B):\n",
    "    def c(self):\n",
    "        print(\"C\")\n",
    "\n",
    "objc = C()\n",
    "objc.c()\n",
    "objc.b()\n",
    "objb = B()\n",
    "objb.b()\n",
    "objb.a()"
   ]
  },
  {
   "cell_type": "code",
   "execution_count": 2,
   "metadata": {},
   "outputs": [
    {
     "name": "stdout",
     "output_type": "stream",
     "text": [
      "C\n",
      "A\n",
      "B\n",
      "A\n"
     ]
    }
   ],
   "source": [
    "#hierarchical inhertance\n",
    "\n",
    "class A:\n",
    "    def a(self):\n",
    "        print('A')\n",
    "class B(A):\n",
    "    def b(self):\n",
    "        print(\"B\")\n",
    "class C(A):\n",
    "    def c(self):\n",
    "        print(\"C\")\n",
    "\n",
    "objc = C()\n",
    "objc.c()\n",
    "objc.a()\n",
    "objb = B()\n",
    "objb.b()\n",
    "objb.a()"
   ]
  },
  {
   "cell_type": "code",
   "execution_count": null,
   "metadata": {},
   "outputs": [],
   "source": []
  }
 ],
 "metadata": {
  "kernelspec": {
   "display_name": "Python 3",
   "language": "python",
   "name": "python3"
  },
  "language_info": {
   "codemirror_mode": {
    "name": "ipython",
    "version": 3
   },
   "file_extension": ".py",
   "mimetype": "text/x-python",
   "name": "python",
   "nbconvert_exporter": "python",
   "pygments_lexer": "ipython3",
   "version": "3.11.4"
  },
  "orig_nbformat": 4,
  "vscode": {
   "interpreter": {
    "hash": "5238573367df39f7286bb46f9ff5f08f63a01a80960060ce41e3c79b190280fa"
   }
  }
 },
 "nbformat": 4,
 "nbformat_minor": 2
}
